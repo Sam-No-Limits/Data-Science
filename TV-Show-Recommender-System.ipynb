{
  "nbformat": 4,
  "nbformat_minor": 0,
  "metadata": {
    "colab": {
      "provenance": []
    },
    "kernelspec": {
      "name": "python3",
      "display_name": "Python 3"
    },
    "language_info": {
      "name": "python"
    }
  },
  "cells": [
    {
      "cell_type": "code",
      "execution_count": 1,
      "metadata": {
        "colab": {
          "base_uri": "https://localhost:8080/"
        },
        "id": "hYUaqD1z3MUw",
        "outputId": "c0a6fde3-461a-47ef-d339-3c3d2264f96f"
      },
      "outputs": [
        {
          "output_type": "stream",
          "name": "stdout",
          "text": [
            "🎬 TV Show Recommender (IMDb-Based)\n",
            "\n",
            "Enter your favorite genre (e.g., Comedy, Drama, Sci-Fi): Drama\n",
            "What is your mood? (happy, dark, romantic, excited, thoughtful): Dark\n",
            "\n",
            "🔍 Loading and processing IMDb data...\n"
          ]
        },
        {
          "output_type": "stream",
          "name": "stderr",
          "text": [
            "/tmp/ipython-input-1-2508450099.py:11: DtypeWarning: Columns (7) have mixed types. Specify dtype option on import or set low_memory=False.\n",
            "  basics = pd.read_csv('title.basics.tsv.gz', sep='\\t', na_values='\\\\N', compression='gzip')\n"
          ]
        },
        {
          "output_type": "stream",
          "name": "stdout",
          "text": [
            "\n",
            "📺 Top TV Show Recommendations for you:\n",
            "\n",
            "56082. From High Up (2022.0) - Crime,Mystery,Thriller [IMDb: 8.8]\n",
            "39236. Taqdeer (2020.0) - Crime,Mystery,Thriller [IMDb: 8.6]\n",
            "49883. The Bridge (2011.0) - Crime,Mystery,Thriller [IMDb: 8.6]\n",
            "75783. 9th Floor (2024.0) - Crime,Mystery,Thriller [IMDb: 8.6]\n",
            "54767. Special Squad (2005.0) - Crime,Mystery,Thriller [IMDb: 8.3]\n",
            "17526. ¿Es usted el asesino? (1967.0) - Crime,Mystery,Thriller [IMDb: 8.2]\n",
            "56078. Kaiser (2022.0) - Crime,Mystery,Thriller [IMDb: 8.2]\n",
            "57975. The Children of Evil (2023.0) - Crime,Mystery,Thriller [IMDb: 8.2]\n",
            "62191. The Twisted Doll (2024.0) - Crime,Mystery,Thriller [IMDb: 8.2]\n",
            "34023. Leverage: Redemption (2021.0) - Crime,Mystery,Thriller [IMDb: 8.1]\n"
          ]
        }
      ],
      "source": [
        "# 📦 Install required libraries (if not already)\n",
        "!pip install scikit-learn pandas --quiet\n",
        "\n",
        "import pandas as pd\n",
        "from sklearn.feature_extraction.text import TfidfVectorizer\n",
        "from sklearn.metrics.pairwise import cosine_similarity\n",
        "\n",
        "# Step 1: Load IMDb Data\n",
        "def load_imdb_data():\n",
        "    # Download from IMDb: https://datasets.imdbws.com/\n",
        "    basics = pd.read_csv('title.basics.tsv.gz', sep='\\t', na_values='\\\\N', compression='gzip')\n",
        "    ratings = pd.read_csv('title.ratings.tsv.gz', sep='\\t', na_values='\\\\N', compression='gzip')\n",
        "\n",
        "    # Filter only TV series and clean\n",
        "    tv_shows = basics[(basics['titleType'] == 'tvSeries') & (basics['isAdult'] == 0)]\n",
        "    tv_shows = tv_shows[['tconst', 'primaryTitle', 'genres', 'startYear']].dropna()\n",
        "\n",
        "    # Merge with ratings\n",
        "    merged = pd.merge(tv_shows, ratings, on='tconst')\n",
        "    return merged\n",
        "\n",
        "# Step 2: Recommend shows using TF-IDF on genres\n",
        "def recommend_shows(df, user_genre, mood, top_n=10):\n",
        "    # Combine genre and mood into one pseudo-genre string\n",
        "    mood_genres = {\n",
        "        \"happy\": \"Comedy Family\",\n",
        "        \"dark\": \"Thriller Crime Mystery\",\n",
        "        \"romantic\": \"Romance Drama\",\n",
        "        \"excited\": \"Action Adventure\",\n",
        "        \"thoughtful\": \"Sci-Fi Fantasy\"\n",
        "    }\n",
        "    mood_extension = mood_genres.get(mood.lower(), \"\")\n",
        "    user_profile = user_genre + \" \" + mood_extension\n",
        "\n",
        "    # Vectorize genres\n",
        "    tfidf = TfidfVectorizer()\n",
        "    genre_matrix = tfidf.fit_transform(df['genres'].fillna(\"\"))\n",
        "\n",
        "    # Transform user input\n",
        "    user_vec = tfidf.transform([user_profile])\n",
        "\n",
        "    # Compute cosine similarity\n",
        "    similarity_scores = cosine_similarity(user_vec, genre_matrix).flatten()\n",
        "    df['similarity'] = similarity_scores\n",
        "\n",
        "    # Top matches\n",
        "    top_matches = df.sort_values(by=['similarity', 'averageRating'], ascending=False).head(top_n)\n",
        "    return top_matches[['primaryTitle', 'genres', 'averageRating', 'startYear']]\n",
        "\n",
        "# Step 3: User Interaction\n",
        "def main():\n",
        "    print(\"🎬 TV Show Recommender (IMDb-Based)\\n\")\n",
        "    genre = input(\"Enter your favorite genre (e.g., Comedy, Drama, Sci-Fi): \")\n",
        "    mood = input(\"What is your mood? (happy, dark, romantic, excited, thoughtful): \")\n",
        "\n",
        "    print(\"\\n🔍 Loading and processing IMDb data...\")\n",
        "    df = load_imdb_data()\n",
        "\n",
        "    print(\"\\n📺 Top TV Show Recommendations for you:\\n\")\n",
        "    recommendations = recommend_shows(df, genre, mood)\n",
        "    for i, row in recommendations.iterrows():\n",
        "        print(f\"{i+1}. {row['primaryTitle']} ({row['startYear']}) - {row['genres']} [IMDb: {row['averageRating']}]\")\n",
        "\n",
        "# Run the recommender\n",
        "main()\n"
      ]
    }
  ]
}